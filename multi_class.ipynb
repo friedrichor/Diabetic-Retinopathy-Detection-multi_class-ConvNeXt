{
  "cells": [
    {
      "cell_type": "markdown",
      "metadata": {
        "id": "view-in-github",
        "colab_type": "text"
      },
      "source": [
        "<a href=\"https://colab.research.google.com/github/friedrichor/Diabetic-Retinopathy-Detection-multi_class-ConvNeXt/blob/main/multi_class.ipynb\" target=\"_parent\"><img src=\"https://colab.research.google.com/assets/colab-badge.svg\" alt=\"Open In Colab\"/></a>"
      ]
    },
    {
      "cell_type": "code",
      "execution_count": 1,
      "metadata": {
        "colab": {
          "base_uri": "https://localhost:8080/"
        },
        "id": "_dKAw1Rzlzzi",
        "outputId": "65fd0a83-9e74-49d1-ce55-1ea43db92438"
      },
      "outputs": [
        {
          "output_type": "stream",
          "name": "stdout",
          "text": [
            "Cloning into 'Diabetic-Retinopathy-Detection-multi_class-ConvNeXt'...\n",
            "remote: Enumerating objects: 1023, done.\u001b[K\n",
            "remote: Counting objects: 100% (23/23), done.\u001b[K\n",
            "remote: Compressing objects: 100% (15/15), done.\u001b[K\n",
            "remote: Total 1023 (delta 5), reused 23 (delta 5), pack-reused 1000\u001b[K\n",
            "Receiving objects: 100% (1023/1023), 275.35 MiB | 49.58 MiB/s, done.\n",
            "Resolving deltas: 100% (5/5), done.\n",
            "Checking out files: 100% (1013/1013), done.\n"
          ]
        }
      ],
      "source": [
        "!git clone https://github.com/friedrichor/Diabetic-Retinopathy-Detection-multi_class-ConvNeXt"
      ]
    },
    {
      "cell_type": "markdown",
      "metadata": {
        "id": "mUTpeORfnBDQ"
      },
      "source": [
        "# ConvNeXt"
      ]
    },
    {
      "cell_type": "code",
      "execution_count": 2,
      "metadata": {
        "colab": {
          "base_uri": "https://localhost:8080/"
        },
        "id": "NDwuFmm9mPGo",
        "outputId": "168144b0-9829-4bf1-fb40-4c67d5cf3cab"
      },
      "outputs": [
        {
          "output_type": "stream",
          "name": "stdout",
          "text": [
            "Namespace(batch_size=8, data_path=PosixPath('Diabetic-Retinopathy-Detection-multi_class-ConvNeXt/data/train'), device=device(type='cuda', index=0), epochs=10, freeze_layers=False, lr=0.0005, num_classes=4, wd=0.05, weights=PosixPath('Diabetic-Retinopathy-Detection-multi_class-ConvNeXt/../drive/MyDrive/torch_convnext/convnext_large_1k_224_ema.pth'))\n",
            "using cuda:0 device.\n",
            "902 images were found in the dataset.\n",
            "723 images for training.\n",
            "179 images for validation.\n",
            "Using 2 dataloader workers every process\n",
            "_IncompatibleKeys(missing_keys=['head.weight', 'head.bias'], unexpected_keys=[])\n",
            "[train epoch 0] loss: 1.291, acc: 0.461, lr: 0.00049: 100% 91/91 [00:58<00:00,  1.55it/s]\n",
            "[valid epoch 0] loss: 1.011, acc: 0.581: 100% 23/23 [00:04<00:00,  4.72it/s]\n",
            "[train epoch 1] loss: 1.271, acc: 0.510, lr: 0.00049: 100% 91/91 [01:01<00:00,  1.49it/s]\n",
            "[valid epoch 1] loss: 1.147, acc: 0.564: 100% 23/23 [00:05<00:00,  4.54it/s]\n",
            "[train epoch 2] loss: 1.115, acc: 0.573, lr: 0.00044: 100% 91/91 [01:03<00:00,  1.42it/s]\n",
            "[valid epoch 2] loss: 0.976, acc: 0.603: 100% 23/23 [00:05<00:00,  4.38it/s]\n",
            "[train epoch 3] loss: 0.974, acc: 0.625, lr: 0.00038: 100% 91/91 [01:04<00:00,  1.41it/s]\n",
            "[valid epoch 3] loss: 0.844, acc: 0.698: 100% 23/23 [00:05<00:00,  4.29it/s]\n",
            "[train epoch 4] loss: 0.880, acc: 0.664, lr: 0.00029: 100% 91/91 [01:05<00:00,  1.39it/s]\n",
            "[valid epoch 4] loss: 0.819, acc: 0.721: 100% 23/23 [00:05<00:00,  4.24it/s]\n",
            "[train epoch 5] loss: 0.844, acc: 0.683, lr: 0.00021: 100% 91/91 [01:06<00:00,  1.37it/s]\n",
            "[valid epoch 5] loss: 0.841, acc: 0.682: 100% 23/23 [00:05<00:00,  4.21it/s]\n",
            "[train epoch 6] loss: 0.804, acc: 0.668, lr: 0.00013: 100% 91/91 [01:06<00:00,  1.38it/s]\n",
            "[valid epoch 6] loss: 0.858, acc: 0.670: 100% 23/23 [00:05<00:00,  4.24it/s]\n",
            "[train epoch 7] loss: 0.704, acc: 0.719, lr: 0.00006: 100% 91/91 [01:06<00:00,  1.38it/s]\n",
            "[valid epoch 7] loss: 0.775, acc: 0.726: 100% 23/23 [00:05<00:00,  4.24it/s]\n",
            "[train epoch 8] loss: 0.652, acc: 0.744, lr: 0.00002: 100% 91/91 [01:06<00:00,  1.37it/s]\n",
            "[valid epoch 8] loss: 0.770, acc: 0.732: 100% 23/23 [00:05<00:00,  4.25it/s]\n",
            "[train epoch 9] loss: 0.581, acc: 0.775, lr: 0.00000: 100% 91/91 [01:06<00:00,  1.37it/s]\n",
            "[valid epoch 9] loss: 0.774, acc: 0.737: 100% 23/23 [00:05<00:00,  4.24it/s]\n"
          ]
        }
      ],
      "source": [
        "!python /content/Diabetic-Retinopathy-Detection-multi_class-ConvNeXt/train.py"
      ]
    },
    {
      "cell_type": "code",
      "source": [
        "!python /content/Diabetic-Retinopathy-Detection-multi_class-ConvNeXt/predict.py"
      ],
      "metadata": {
        "colab": {
          "base_uri": "https://localhost:8080/"
        },
        "id": "ieLO_Hya-zNi",
        "outputId": "440bc88f-193e-431f-f1f7-e70c75a66ee0"
      },
      "execution_count": 8,
      "outputs": [
        {
          "output_type": "stream",
          "name": "stdout",
          "text": [
            "Namespace(device=device(type='cuda', index=0), num_classes=4, path_json=PosixPath('Diabetic-Retinopathy-Detection-multi_class-ConvNeXt/class_indices.json'), path_test=PosixPath('Diabetic-Retinopathy-Detection-multi_class-ConvNeXt/data/test'), weights=PosixPath('Diabetic-Retinopathy-Detection-multi_class-ConvNeXt/../drive/MyDrive/weights_convnext_multi/model1.pth'))\n",
            "using cuda:0 device.\n",
            "num of test datasets = 98\n",
            "acc = 0.5714285714285714\n"
          ]
        }
      ]
    },
    {
      "cell_type": "code",
      "source": [
        ""
      ],
      "metadata": {
        "id": "r3jyioTn-291"
      },
      "execution_count": null,
      "outputs": []
    }
  ],
  "metadata": {
    "colab": {
      "name": "multi-class.ipynb",
      "provenance": [],
      "mount_file_id": "18u4A-vSn8exXLkfiV9OCRjA25CgKC8yO",
      "authorship_tag": "ABX9TyOkt/gpEurY2PL7lu3hoo33",
      "include_colab_link": true
    },
    "kernelspec": {
      "display_name": "Python 3",
      "name": "python3"
    },
    "language_info": {
      "name": "python"
    },
    "accelerator": "GPU"
  },
  "nbformat": 4,
  "nbformat_minor": 0
}