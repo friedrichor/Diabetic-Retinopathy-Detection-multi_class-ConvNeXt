{
  "cells": [
    {
      "cell_type": "markdown",
      "metadata": {
        "id": "view-in-github",
        "colab_type": "text"
      },
      "source": [
        "<a href=\"https://colab.research.google.com/github/friedrichor/Diabetic-Retinopathy-Detection-multi_class-ConvNeXt/blob/main/multi_class.ipynb\" target=\"_parent\"><img src=\"https://colab.research.google.com/assets/colab-badge.svg\" alt=\"Open In Colab\"/></a>"
      ]
    },
    {
      "cell_type": "code",
      "execution_count": 1,
      "metadata": {
        "colab": {
          "base_uri": "https://localhost:8080/"
        },
        "id": "_dKAw1Rzlzzi",
        "outputId": "faafe9fd-f2e8-4ba3-c132-3d97867f4715"
      },
      "outputs": [
        {
          "output_type": "stream",
          "name": "stdout",
          "text": [
            "Cloning into 'Diabetic-Retinopathy-Detection-multi_class-ConvNeXt'...\n",
            "remote: Enumerating objects: 4146, done.\u001b[K\n",
            "remote: Counting objects: 100% (1042/1042), done.\u001b[K\n",
            "remote: Compressing objects: 100% (1026/1026), done.\u001b[K\n",
            "remote: Total 4146 (delta 16), reused 1039 (delta 13), pack-reused 3104\u001b[K\n",
            "Receiving objects: 100% (4146/4146), 1.06 GiB | 26.08 MiB/s, done.\n",
            "Resolving deltas: 100% (17/17), done.\n",
            "Checking out files: 100% (4112/4112), done.\n"
          ]
        }
      ],
      "source": [
        "!git clone https://github.com/friedrichor/Diabetic-Retinopathy-Detection-multi_class-ConvNeXt"
      ]
    },
    {
      "cell_type": "markdown",
      "metadata": {
        "id": "mUTpeORfnBDQ"
      },
      "source": [
        "# ConvNeXt"
      ]
    },
    {
      "cell_type": "code",
      "execution_count": 2,
      "metadata": {
        "colab": {
          "base_uri": "https://localhost:8080/"
        },
        "id": "NDwuFmm9mPGo",
        "outputId": "57174e9a-7ee8-417c-8721-05e823f2d95a"
      },
      "outputs": [
        {
          "output_type": "stream",
          "name": "stdout",
          "text": [
            "Namespace(batch_size=16, data_path=PosixPath('Diabetic-Retinopathy-Detection-multi_class-ConvNeXt/data/train'), device=device(type='cuda', index=0), epochs=20, freeze_layers=False, lr=0.0005, model_name='model_epoch20_batch16.pth', num_classes=4, wd=0.05, weights=PosixPath('Diabetic-Retinopathy-Detection-multi_class-ConvNeXt/../drive/MyDrive/torch_convnext/convnext_large_1k_224_ema.pth'))\n",
            "using cuda:0 device.\n",
            "4000 images were found in the dataset.\n",
            "3200 images for training.\n",
            "800 images for validation.\n",
            "Using 2 dataloader workers every process\n",
            "_IncompatibleKeys(missing_keys=['head.weight', 'head.bias'], unexpected_keys=[])\n",
            "[train epoch 0] loss: 1.258, acc: 0.406, lr: 0.00050: 100% 200/200 [02:30<00:00,  1.33it/s]\n",
            "[valid epoch 0] loss: 1.102, acc: 0.522: 100% 50/50 [00:11<00:00,  4.48it/s]\n",
            "[train epoch 1] loss: 1.012, acc: 0.533, lr: 0.00050: 100% 200/200 [02:30<00:00,  1.33it/s]\n",
            "[valid epoch 1] loss: 0.747, acc: 0.698: 100% 50/50 [00:11<00:00,  4.43it/s]\n",
            "[train epoch 2] loss: 0.875, acc: 0.619, lr: 0.00049: 100% 200/200 [02:30<00:00,  1.33it/s]\n",
            "[valid epoch 2] loss: 0.604, acc: 0.760: 100% 50/50 [00:11<00:00,  4.41it/s]\n",
            "[train epoch 3] loss: 0.682, acc: 0.718, lr: 0.00047: 100% 200/200 [02:30<00:00,  1.33it/s]\n",
            "[valid epoch 3] loss: 0.377, acc: 0.887: 100% 50/50 [00:11<00:00,  4.40it/s]\n",
            "[train epoch 4] loss: 0.519, acc: 0.795, lr: 0.00045: 100% 200/200 [02:30<00:00,  1.33it/s]\n",
            "[valid epoch 4] loss: 0.271, acc: 0.892: 100% 50/50 [00:11<00:00,  4.44it/s]\n",
            "[train epoch 5] loss: 0.423, acc: 0.835, lr: 0.00042: 100% 200/200 [02:30<00:00,  1.33it/s]\n",
            "[valid epoch 5] loss: 0.189, acc: 0.932: 100% 50/50 [00:11<00:00,  4.45it/s]\n",
            "[train epoch 6] loss: 0.306, acc: 0.890, lr: 0.00039: 100% 200/200 [02:30<00:00,  1.33it/s]\n",
            "[valid epoch 6] loss: 0.135, acc: 0.954: 100% 50/50 [00:11<00:00,  4.44it/s]\n",
            "[train epoch 7] loss: 0.248, acc: 0.903, lr: 0.00035: 100% 200/200 [02:30<00:00,  1.33it/s]\n",
            "[valid epoch 7] loss: 0.054, acc: 0.985: 100% 50/50 [00:11<00:00,  4.44it/s]\n",
            "[train epoch 8] loss: 0.245, acc: 0.903, lr: 0.00031: 100% 200/200 [02:30<00:00,  1.33it/s]\n",
            "[valid epoch 8] loss: 0.073, acc: 0.979: 100% 50/50 [00:11<00:00,  4.41it/s]\n",
            "[train epoch 9] loss: 0.185, acc: 0.927, lr: 0.00027: 100% 200/200 [02:30<00:00,  1.33it/s]\n",
            "[valid epoch 9] loss: 0.053, acc: 0.985: 100% 50/50 [00:11<00:00,  4.43it/s]\n",
            "[train epoch 10] loss: 0.164, acc: 0.939, lr: 0.00023: 100% 200/200 [02:30<00:00,  1.33it/s]\n",
            "[valid epoch 10] loss: 0.031, acc: 0.985: 100% 50/50 [00:11<00:00,  4.42it/s]\n",
            "[train epoch 11] loss: 0.136, acc: 0.950, lr: 0.00019: 100% 200/200 [02:30<00:00,  1.33it/s]\n",
            "[valid epoch 11] loss: 0.029, acc: 0.990: 100% 50/50 [00:11<00:00,  4.44it/s]\n",
            "[train epoch 12] loss: 0.117, acc: 0.955, lr: 0.00015: 100% 200/200 [02:30<00:00,  1.33it/s]\n",
            "[valid epoch 12] loss: 0.031, acc: 0.990: 100% 50/50 [00:11<00:00,  4.42it/s]\n",
            "[train epoch 13] loss: 0.099, acc: 0.960, lr: 0.00011: 100% 200/200 [02:30<00:00,  1.33it/s]\n",
            "[valid epoch 13] loss: 0.046, acc: 0.989: 100% 50/50 [00:11<00:00,  4.44it/s]\n",
            "[train epoch 14] loss: 0.089, acc: 0.963, lr: 0.00008: 100% 200/200 [02:30<00:00,  1.33it/s]\n",
            "[valid epoch 14] loss: 0.023, acc: 0.994: 100% 50/50 [00:11<00:00,  4.44it/s]\n",
            "[train epoch 15] loss: 0.070, acc: 0.976, lr: 0.00005: 100% 200/200 [02:30<00:00,  1.33it/s]\n",
            "[valid epoch 15] loss: 0.022, acc: 0.994: 100% 50/50 [00:11<00:00,  4.45it/s]\n",
            "[train epoch 16] loss: 0.078, acc: 0.972, lr: 0.00003: 100% 200/200 [02:30<00:00,  1.33it/s]\n",
            "[valid epoch 16] loss: 0.014, acc: 0.994: 100% 50/50 [00:11<00:00,  4.43it/s]\n",
            "[train epoch 17] loss: 0.070, acc: 0.977, lr: 0.00001: 100% 200/200 [02:30<00:00,  1.33it/s]\n",
            "[valid epoch 17] loss: 0.013, acc: 0.996: 100% 50/50 [00:11<00:00,  4.44it/s]\n",
            "[train epoch 18] loss: 0.060, acc: 0.979, lr: 0.00000: 100% 200/200 [02:30<00:00,  1.33it/s]\n",
            "[valid epoch 18] loss: 0.016, acc: 0.994: 100% 50/50 [00:11<00:00,  4.45it/s]\n",
            "[train epoch 19] loss: 0.065, acc: 0.976, lr: 0.00000: 100% 200/200 [02:30<00:00,  1.33it/s]\n",
            "[valid epoch 19] loss: 0.015, acc: 0.994: 100% 50/50 [00:11<00:00,  4.44it/s]\n"
          ]
        }
      ],
      "source": [
        "!python /content/Diabetic-Retinopathy-Detection-multi_class-ConvNeXt/train.py  --model-name 'model_epoch20_batch16.pth' --epochs 20 --batch-size 16"
      ]
    },
    {
      "cell_type": "code",
      "execution_count": 4,
      "metadata": {
        "colab": {
          "base_uri": "https://localhost:8080/"
        },
        "id": "ieLO_Hya-zNi",
        "outputId": "f5da24bd-ee72-410d-dff7-a2880f38d3fe"
      },
      "outputs": [
        {
          "output_type": "stream",
          "name": "stdout",
          "text": [
            "Namespace(device=device(type='cuda', index=0), model_name='model_epoch20_batch16.pth', num_classes=4, path_json=PosixPath('Diabetic-Retinopathy-Detection-multi_class-ConvNeXt/class_indices.json'), path_test=PosixPath('Diabetic-Retinopathy-Detection-multi_class-ConvNeXt/data/test'))\n",
            "using cuda:0 device.\n",
            "num of test datasets = 98\n",
            "acc = 0.7040816326530612\n",
            "              precision    recall  f1-score   support\n",
            "\n",
            "           0       0.75      0.93      0.83        46\n",
            "           1       0.50      0.23      0.32        13\n",
            "           2       0.54      0.35      0.42        20\n",
            "           3       0.73      0.84      0.78        19\n",
            "\n",
            "    accuracy                           0.70        98\n",
            "   macro avg       0.63      0.59      0.59        98\n",
            "weighted avg       0.67      0.70      0.67        98\n",
            "\n"
          ]
        }
      ],
      "source": [
        "!python /content/Diabetic-Retinopathy-Detection-multi_class-ConvNeXt/predict.py --model-name 'model_epoch20_batch16.pth'"
      ]
    },
    {
      "cell_type": "markdown",
      "source": [
        "## K折交叉验证"
      ],
      "metadata": {
        "id": "lgjAGXes3bdj"
      }
    },
    {
      "cell_type": "code",
      "execution_count": null,
      "metadata": {
        "id": "r3jyioTn-291",
        "colab": {
          "base_uri": "https://localhost:8080/"
        },
        "outputId": "28e8881d-ade3-4bb8-d5ba-47db0517370f"
      },
      "outputs": [
        {
          "output_type": "stream",
          "name": "stdout",
          "text": [
            "Namespace(batch_size=16, data_path=PosixPath('Diabetic-Retinopathy-Detection-multi_class-ConvNeXt/data/train'), device=device(type='cuda', index=0), epochs=10, freeze_layers=False, k_fold=5, lr=0.0005, model_name='model_5fold_epoch10_batch16.pth', num_classes=4, wd=0.05, weights=PosixPath('Diabetic-Retinopathy-Detection-multi_class-ConvNeXt/../drive/MyDrive/torch_convnext/convnext_large_1k_224_ema.pth'))\n",
            "using cuda:0 device.\n",
            "第0折: \n",
            "902 images were found in the dataset.\n",
            "723 images for training.\n",
            "179 images for validation.\n",
            "Using 2 dataloader workers every process\n",
            "_IncompatibleKeys(missing_keys=['head.weight', 'head.bias'], unexpected_keys=[])\n",
            "[train epoch 0] loss: 1.319, acc: 0.432, lr: 0.00049: 100% 46/46 [01:02<00:00,  1.36s/it]\n",
            "[valid epoch 0] loss: 1.073, acc: 0.575: 100% 12/12 [00:05<00:00,  2.25it/s]\n",
            "[train epoch 1] loss: 1.093, acc: 0.556, lr: 0.00049: 100% 46/46 [01:01<00:00,  1.34s/it]\n",
            "[valid epoch 1] loss: 0.910, acc: 0.609: 100% 12/12 [00:05<00:00,  2.22it/s]\n",
            "[train epoch 2] loss: 0.983, acc: 0.635, lr: 0.00044: 100% 46/46 [01:01<00:00,  1.34s/it]\n",
            "[valid epoch 2] loss: 0.825, acc: 0.687: 100% 12/12 [00:05<00:00,  2.24it/s]\n",
            "[train epoch 3] loss: 0.862, acc: 0.664, lr: 0.00038: 100% 46/46 [01:01<00:00,  1.35s/it]\n",
            "[valid epoch 3] loss: 0.872, acc: 0.682: 100% 12/12 [00:05<00:00,  2.24it/s]\n",
            "[train epoch 4] loss: 0.852, acc: 0.649, lr: 0.00030: 100% 46/46 [01:01<00:00,  1.34s/it]\n",
            "[valid epoch 4] loss: 0.778, acc: 0.715: 100% 12/12 [00:05<00:00,  2.24it/s]\n",
            "[train epoch 5] loss: 0.799, acc: 0.705, lr: 0.00021: 100% 46/46 [01:02<00:00,  1.35s/it]\n",
            "[valid epoch 5] loss: 0.761, acc: 0.715: 100% 12/12 [00:05<00:00,  2.26it/s]\n",
            "[train epoch 6] loss: 0.728, acc: 0.723, lr: 0.00013: 100% 46/46 [01:01<00:00,  1.34s/it]\n",
            "[valid epoch 6] loss: 0.757, acc: 0.721: 100% 12/12 [00:05<00:00,  2.24it/s]\n",
            "[train epoch 7] loss: 0.632, acc: 0.741, lr: 0.00006: 100% 46/46 [01:01<00:00,  1.35s/it]\n",
            "[valid epoch 7] loss: 0.779, acc: 0.726: 100% 12/12 [00:05<00:00,  2.26it/s]\n",
            "[train epoch 8] loss: 0.584, acc: 0.786, lr: 0.00002: 100% 46/46 [01:02<00:00,  1.35s/it]\n",
            "[valid epoch 8] loss: 0.780, acc: 0.715: 100% 12/12 [00:05<00:00,  2.24it/s]\n",
            "[train epoch 9] loss: 0.505, acc: 0.806, lr: 0.00000: 100% 46/46 [01:01<00:00,  1.34s/it]\n",
            "[valid epoch 9] loss: 0.782, acc: 0.704: 100% 12/12 [00:05<00:00,  2.24it/s]\n",
            "第1折: \n",
            "902 images were found in the dataset.\n",
            "723 images for training.\n",
            "179 images for validation.\n",
            "Using 2 dataloader workers every process\n",
            "_IncompatibleKeys(missing_keys=['head.weight', 'head.bias'], unexpected_keys=[])\n",
            "[train epoch 0] loss: 1.271, acc: 0.506, lr: 0.00049: 100% 46/46 [01:02<00:00,  1.35s/it]\n",
            "[valid epoch 0] loss: 5.335, acc: 0.196: 100% 12/12 [00:05<00:00,  2.24it/s]\n",
            "[train epoch 1] loss: 1.357, acc: 0.477, lr: 0.00049: 100% 46/46 [01:02<00:00,  1.35s/it]\n",
            "[valid epoch 1] loss: 1.160, acc: 0.553: 100% 12/12 [00:05<00:00,  2.25it/s]\n",
            "[train epoch 2] loss: 1.137, acc: 0.559, lr: 0.00044: 100% 46/46 [01:01<00:00,  1.34s/it]\n",
            "[valid epoch 2] loss: 1.169, acc: 0.559: 100% 12/12 [00:05<00:00,  2.23it/s]\n",
            "[train epoch 3] loss: 0.964, acc: 0.600, lr: 0.00038: 100% 46/46 [01:01<00:00,  1.35s/it]\n",
            "[valid epoch 3] loss: 1.024, acc: 0.581: 100% 12/12 [00:05<00:00,  2.24it/s]\n",
            "[train epoch 4] loss: 0.950, acc: 0.636, lr: 0.00030: 100% 46/46 [01:01<00:00,  1.35s/it]\n",
            "[valid epoch 4] loss: 0.830, acc: 0.726: 100% 12/12 [00:05<00:00,  2.24it/s]\n",
            "[train epoch 5] loss: 0.844, acc: 0.665, lr: 0.00021: 100% 46/46 [01:01<00:00,  1.34s/it]\n",
            "[valid epoch 5] loss: 0.908, acc: 0.670: 100% 12/12 [00:05<00:00,  2.26it/s]\n",
            "[train epoch 6] loss: 0.746, acc: 0.705, lr: 0.00013: 100% 46/46 [01:01<00:00,  1.34s/it]\n",
            "[valid epoch 6] loss: 0.886, acc: 0.659: 100% 12/12 [00:05<00:00,  2.25it/s]\n",
            "[train epoch 7] loss: 0.678, acc: 0.721, lr: 0.00006: 100% 46/46 [01:01<00:00,  1.35s/it]\n",
            "[valid epoch 7] loss: 0.847, acc: 0.709: 100% 12/12 [00:05<00:00,  2.24it/s]\n",
            "[train epoch 8] loss: 0.656, acc: 0.751, lr: 0.00002: 100% 46/46 [01:01<00:00,  1.35s/it]\n",
            "[valid epoch 8] loss: 0.820, acc: 0.698: 100% 12/12 [00:05<00:00,  2.24it/s]\n",
            "[train epoch 9] loss: 0.602, acc: 0.759, lr: 0.00000: 100% 46/46 [01:01<00:00,  1.35s/it]\n",
            "[valid epoch 9] loss: 0.822, acc: 0.715: 100% 12/12 [00:05<00:00,  2.23it/s]\n",
            "第2折: \n",
            "902 images were found in the dataset.\n",
            "723 images for training.\n",
            "179 images for validation.\n",
            "Using 2 dataloader workers every process\n",
            "_IncompatibleKeys(missing_keys=['head.weight', 'head.bias'], unexpected_keys=[])\n",
            "[train epoch 0] loss: 1.377, acc: 0.389, lr: 0.00049: 100% 46/46 [01:02<00:00,  1.35s/it]\n",
            "[valid epoch 0] loss: 1.192, acc: 0.486: 100% 12/12 [00:05<00:00,  2.23it/s]\n",
            "[train epoch 1] loss: 1.068, acc: 0.592, lr: 0.00049: 100% 46/46 [01:01<00:00,  1.35s/it]\n",
            "[valid epoch 1] loss: 1.283, acc: 0.508: 100% 12/12 [00:05<00:00,  2.24it/s]\n",
            "[train epoch 2] loss: 1.080, acc: 0.563, lr: 0.00044: 100% 46/46 [01:01<00:00,  1.34s/it]\n",
            "[valid epoch 2] loss: 0.945, acc: 0.648: 100% 12/12 [00:05<00:00,  2.25it/s]\n",
            "[train epoch 3] loss: 0.948, acc: 0.628, lr: 0.00038: 100% 46/46 [01:01<00:00,  1.35s/it]\n",
            "[valid epoch 3] loss: 1.046, acc: 0.358: 100% 12/12 [00:05<00:00,  2.24it/s]\n",
            "[train epoch 4] loss: 0.897, acc: 0.621, lr: 0.00030: 100% 46/46 [01:01<00:00,  1.34s/it]\n",
            "[valid epoch 4] loss: 0.878, acc: 0.665: 100% 12/12 [00:05<00:00,  2.24it/s]\n",
            "[train epoch 5] loss: 0.829, acc: 0.678, lr: 0.00021: 100% 46/46 [01:02<00:00,  1.35s/it]\n",
            "[valid epoch 5] loss: 0.789, acc: 0.682: 100% 12/12 [00:05<00:00,  2.25it/s]\n",
            "[train epoch 6] loss: 0.780, acc: 0.692, lr: 0.00013: 100% 46/46 [01:02<00:00,  1.35s/it]\n",
            "[valid epoch 6] loss: 0.765, acc: 0.709: 100% 12/12 [00:05<00:00,  2.24it/s]\n",
            "[train epoch 7] loss: 0.674, acc: 0.733, lr: 0.00006: 100% 46/46 [01:01<00:00,  1.35s/it]\n",
            "[valid epoch 7] loss: 0.764, acc: 0.709: 100% 12/12 [00:05<00:00,  2.22it/s]\n",
            "[train epoch 8] loss: 0.601, acc: 0.754, lr: 0.00002: 100% 46/46 [01:01<00:00,  1.34s/it]\n",
            "[valid epoch 8] loss: 0.776, acc: 0.709: 100% 12/12 [00:05<00:00,  2.24it/s]\n",
            "[train epoch 9] loss: 0.600, acc: 0.761, lr: 0.00000: 100% 46/46 [01:01<00:00,  1.34s/it]\n",
            "[valid epoch 9] loss: 0.766, acc: 0.715: 100% 12/12 [00:05<00:00,  2.25it/s]\n",
            "第3折: \n",
            "902 images were found in the dataset.\n",
            "723 images for training.\n",
            "179 images for validation.\n",
            "Using 2 dataloader workers every process\n",
            "_IncompatibleKeys(missing_keys=['head.weight', 'head.bias'], unexpected_keys=[])\n",
            "[train epoch 0] loss: 1.297, acc: 0.447, lr: 0.00049: 100% 46/46 [01:02<00:00,  1.36s/it]\n",
            "[valid epoch 0] loss: 1.295, acc: 0.536: 100% 12/12 [00:05<00:00,  2.26it/s]\n",
            "[train epoch 1] loss: 1.220, acc: 0.488, lr: 0.00049: 100% 46/46 [01:01<00:00,  1.35s/it]\n",
            "[valid epoch 1] loss: 1.298, acc: 0.436: 100% 12/12 [00:05<00:00,  2.24it/s]\n",
            "[train epoch 2] loss: 1.020, acc: 0.596, lr: 0.00044: 100% 46/46 [01:01<00:00,  1.34s/it]\n",
            "[valid epoch 2] loss: 0.993, acc: 0.603: 100% 12/12 [00:05<00:00,  2.24it/s]\n",
            "[train epoch 3] loss: 0.924, acc: 0.647, lr: 0.00038: 100% 46/46 [01:01<00:00,  1.34s/it]\n",
            "[valid epoch 3] loss: 0.950, acc: 0.654: 100% 12/12 [00:05<00:00,  2.24it/s]\n",
            "[train epoch 4] loss: 0.888, acc: 0.661, lr: 0.00030: 100% 46/46 [01:01<00:00,  1.35s/it]\n",
            "[valid epoch 4] loss: 0.746, acc: 0.687: 100% 12/12 [00:05<00:00,  2.24it/s]\n",
            "[train epoch 5] loss: 0.824, acc: 0.678, lr: 0.00021: 100% 46/46 [01:01<00:00,  1.35s/it]\n",
            "[valid epoch 5] loss: 0.789, acc: 0.693: 100% 12/12 [00:05<00:00,  2.24it/s]\n",
            "[train epoch 6] loss: 0.704, acc: 0.736, lr: 0.00013: 100% 46/46 [01:01<00:00,  1.35s/it]\n",
            "[valid epoch 6] loss: 0.731, acc: 0.687: 100% 12/12 [00:05<00:00,  2.24it/s]\n",
            "[train epoch 7] loss: 0.642, acc: 0.754, lr: 0.00006: 100% 46/46 [01:01<00:00,  1.34s/it]\n",
            "[valid epoch 7] loss: 0.749, acc: 0.732: 100% 12/12 [00:05<00:00,  2.25it/s]\n",
            "[train epoch 8] loss: 0.583, acc: 0.777, lr: 0.00002: 100% 46/46 [01:01<00:00,  1.34s/it]\n",
            "[valid epoch 8] loss: 0.732, acc: 0.721: 100% 12/12 [00:05<00:00,  2.25it/s]\n",
            "[train epoch 9] loss: 0.522, acc: 0.802, lr: 0.00000: 100% 46/46 [01:01<00:00,  1.34s/it]\n",
            "[valid epoch 9] loss: 0.732, acc: 0.743: 100% 12/12 [00:05<00:00,  2.23it/s]\n",
            "第4折: \n",
            "902 images were found in the dataset.\n",
            "723 images for training.\n",
            "179 images for validation.\n",
            "Using 2 dataloader workers every process\n",
            "_IncompatibleKeys(missing_keys=['head.weight', 'head.bias'], unexpected_keys=[])\n",
            "[train epoch 0] loss: 1.326, acc: 0.458, lr: 0.00049: 100% 46/46 [01:02<00:00,  1.36s/it]\n",
            "[valid epoch 0] loss: 0.988, acc: 0.648: 100% 12/12 [00:05<00:00,  2.24it/s]\n",
            "[train epoch 1] loss: 1.044, acc: 0.578, lr: 0.00049: 100% 46/46 [01:01<00:00,  1.35s/it]\n",
            "[valid epoch 1] loss: 0.800, acc: 0.654: 100% 12/12 [00:05<00:00,  2.23it/s]\n",
            "[train epoch 2] loss: 0.977, acc: 0.591, lr: 0.00044: 100% 46/46 [01:01<00:00,  1.35s/it]\n",
            "[valid epoch 2] loss: 0.825, acc: 0.676: 100% 12/12 [00:05<00:00,  2.23it/s]\n",
            "[train epoch 3] loss: 0.891, acc: 0.633, lr: 0.00038: 100% 46/46 [01:01<00:00,  1.35s/it]\n",
            "[valid epoch 3] loss: 0.757, acc: 0.682: 100% 12/12 [00:05<00:00,  2.24it/s]\n",
            "[train epoch 4] loss: 0.808, acc: 0.671, lr: 0.00030: 100% 46/46 [01:01<00:00,  1.35s/it]\n",
            "[valid epoch 4] loss: 0.846, acc: 0.654: 100% 12/12 [00:05<00:00,  2.23it/s]\n",
            "[train epoch 5] loss: 0.743, acc: 0.687, lr: 0.00021: 100% 46/46 [01:01<00:00,  1.34s/it]\n",
            "[valid epoch 5] loss: 0.651, acc: 0.698: 100% 12/12 [00:05<00:00,  2.24it/s]\n",
            "[train epoch 6] loss: 0.662, acc: 0.752, lr: 0.00013: 100% 46/46 [01:02<00:00,  1.35s/it]\n",
            "[valid epoch 6] loss: 0.681, acc: 0.726: 100% 12/12 [00:05<00:00,  2.24it/s]\n",
            "[train epoch 7] loss: 0.634, acc: 0.752, lr: 0.00006: 100% 46/46 [01:01<00:00,  1.35s/it]\n",
            "[valid epoch 7] loss: 0.697, acc: 0.721: 100% 12/12 [00:05<00:00,  2.23it/s]\n",
            "[train epoch 8] loss: 0.511, acc: 0.798, lr: 0.00002: 100% 46/46 [01:01<00:00,  1.34s/it]\n",
            "[valid epoch 8] loss: 0.713, acc: 0.704: 100% 12/12 [00:05<00:00,  2.25it/s]\n",
            "[train epoch 9] loss: 0.474, acc: 0.819, lr: 0.00000: 100% 46/46 [01:01<00:00,  1.34s/it]\n",
            "[valid epoch 9] loss: 0.718, acc: 0.715: 100% 12/12 [00:05<00:00,  2.24it/s]\n"
          ]
        }
      ],
      "source": [
        "!python /content/Diabetic-Retinopathy-Detection-multi_class-ConvNeXt/train_k_fold.py  --model-name 'model_5fold_epoch10_batch16.pth' --epochs 10 --batch-size 16  --k-fold 5"
      ]
    },
    {
      "cell_type": "code",
      "source": [
        "!python /content/Diabetic-Retinopathy-Detection-multi_class-ConvNeXt/predict.py  --model-name 'model_5fold_epoch10_batch16.pth'"
      ],
      "metadata": {
        "colab": {
          "base_uri": "https://localhost:8080/"
        },
        "id": "ayOkmJtOK7tM",
        "outputId": "e1a18b11-3e2a-4e9d-bfa7-fabe2970d279"
      },
      "execution_count": null,
      "outputs": [
        {
          "output_type": "stream",
          "name": "stdout",
          "text": [
            "Namespace(device=device(type='cuda', index=0), model_name='model_5fold_epoch10_batch16.pth', num_classes=4, path_json=PosixPath('Diabetic-Retinopathy-Detection-multi_class-ConvNeXt/class_indices.json'), path_test=PosixPath('Diabetic-Retinopathy-Detection-multi_class-ConvNeXt/data/test'))\n",
            "using cuda:0 device.\n",
            "num of test datasets = 98\n",
            "acc = 0.7142857142857143\n",
            "/usr/local/lib/python3.7/dist-packages/sklearn/metrics/_classification.py:1318: UndefinedMetricWarning: Precision and F-score are ill-defined and being set to 0.0 in labels with no predicted samples. Use `zero_division` parameter to control this behavior.\n",
            "  _warn_prf(average, modifier, msg_start, len(result))\n",
            "/usr/local/lib/python3.7/dist-packages/sklearn/metrics/_classification.py:1318: UndefinedMetricWarning: Precision and F-score are ill-defined and being set to 0.0 in labels with no predicted samples. Use `zero_division` parameter to control this behavior.\n",
            "  _warn_prf(average, modifier, msg_start, len(result))\n",
            "/usr/local/lib/python3.7/dist-packages/sklearn/metrics/_classification.py:1318: UndefinedMetricWarning: Precision and F-score are ill-defined and being set to 0.0 in labels with no predicted samples. Use `zero_division` parameter to control this behavior.\n",
            "  _warn_prf(average, modifier, msg_start, len(result))\n",
            "              precision    recall  f1-score   support\n",
            "\n",
            "           0       0.75      0.91      0.82        46\n",
            "           1       0.00      0.00      0.00        13\n",
            "           2       0.56      0.50      0.53        20\n",
            "           3       0.75      0.95      0.84        19\n",
            "\n",
            "    accuracy                           0.71        98\n",
            "   macro avg       0.51      0.59      0.55        98\n",
            "weighted avg       0.61      0.71      0.66        98\n",
            "\n"
          ]
        }
      ]
    }
  ],
  "metadata": {
    "accelerator": "GPU",
    "colab": {
      "name": "multi-class.ipynb",
      "provenance": [],
      "mount_file_id": "18u4A-vSn8exXLkfiV9OCRjA25CgKC8yO",
      "authorship_tag": "ABX9TyP2FUZTDoaniSAtT8UA5i4j",
      "include_colab_link": true
    },
    "kernelspec": {
      "display_name": "Python 3",
      "name": "python3"
    },
    "language_info": {
      "name": "python"
    }
  },
  "nbformat": 4,
  "nbformat_minor": 0
}